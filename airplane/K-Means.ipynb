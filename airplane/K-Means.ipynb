{
  "nbformat": 4,
  "nbformat_minor": 0,
  "metadata": {
    "colab": {
      "name": "K-Means.ipynb",
      "version": "0.3.2",
      "provenance": [],
      "include_colab_link": true
    },
    "kernelspec": {
      "display_name": "Python 3",
      "language": "python",
      "name": "python3"
    }
  },
  "cells": [
    {
      "cell_type": "markdown",
      "metadata": {
        "id": "view-in-github",
        "colab_type": "text"
      },
      "source": [
        "<a href=\"https://colab.research.google.com/github/sfrias/AIGYM/blob/master/airplane/K-Means.ipynb\" target=\"_parent\"><img src=\"https://colab.research.google.com/assets/colab-badge.svg\" alt=\"Open In Colab\"/></a>"
      ]
    },
    {
      "metadata": {
        "id": "r5gGKVLr6FTH",
        "colab_type": "text"
      },
      "cell_type": "markdown",
      "source": [
        "▶ SUSCRÍBETE al canal XPIKUOS de YOUTUBE y DALE a la CAMPANITA para estar informado de las novedades: https://www.youtube.com/c/Xpikuos?sub_confirmation=1\n",
        "\n",
        "▶ MIRA el siguiente VÍDEO explicativo para entender mejor el código:\n",
        "https://www.youtube.com/watch?v=PJbnP5xTeQc&list=PLaHpNulXyoOR9552JUdhC4UpCUpN4Rho2&index=29&t=0s"
      ]
    },
    {
      "metadata": {
        "id": "3tqKlVO26FTM",
        "colab_type": "code",
        "colab": {}
      },
      "cell_type": "code",
      "source": [
        "from sklearn.cluster import KMeans\n",
        "from sklearn import metrics\n",
        "import numpy as np"
      ],
      "execution_count": 0,
      "outputs": []
    },
    {
      "metadata": {
        "id": "q46p26Zc6FTS",
        "colab_type": "code",
        "colab": {}
      },
      "cell_type": "code",
      "source": [
        "#X = [[3,5],[1,4],[1,6],[2,6],[1,5],[6,8],[6,6],[6,7],[5,6],[6,7],[7,1],[8,2],[9,1],[8,2],[9,3],[9,2],[8,3]]\n",
        "\n",
        "v1=[3, 1, 1, 2, 1, 6, 6, 6, 5, 6, 7, 8, 9, 8, 9, 9, 8]\n",
        "v2=[5, 4, 6, 6, 5, 8, 6, 7, 6, 7, 1, 2, 1, 2, 3, 2, 3]\n",
        "\n",
        "x1 = np.array(v1)\n",
        "x2 = np.array(v2)\n",
        "\n",
        "X = np.array(list(zip(x1, x2))).reshape(len(x1), 2)\n",
        "print(X)\n",
        "\n",
        "import matplotlib.pyplot as plt\n",
        "plt.plot(v1, v2, 'ro')\n",
        "plt.axis([1, 9, 1, 8]) #Eje x: de 1 a 9; Eje Y: de 1 a 8\n",
        "plt.show()"
      ],
      "execution_count": 0,
      "outputs": []
    },
    {
      "metadata": {
        "id": "EQ1Rc-DI6FTV",
        "colab_type": "code",
        "colab": {}
      },
      "cell_type": "code",
      "source": [
        "#Algoritmo K-Means \n",
        "K = 3 \n",
        "kmeans_model = KMeans(n_clusters=K).fit(X)"
      ],
      "execution_count": 0,
      "outputs": []
    },
    {
      "metadata": {
        "id": "CnNFvk_D6FTZ",
        "colab_type": "code",
        "colab": {}
      },
      "cell_type": "code",
      "source": [
        "for i, l in enumerate(kmeans_model.labels_):\n",
        "    print(\"(x1,x2) -> Clase\")\n",
        "    print(\"({0},{1}) ->:{2}\".format(x1[i], x2[i], l))"
      ],
      "execution_count": 0,
      "outputs": []
    },
    {
      "metadata": {
        "id": "ZLyR4fwJ6FTe",
        "colab_type": "code",
        "colab": {}
      },
      "cell_type": "code",
      "source": [
        "predicciones = kmeans_model.predict(X)\n",
        "print(predicciones)"
      ],
      "execution_count": 0,
      "outputs": []
    },
    {
      "metadata": {
        "id": "d5AUX00n6FTj",
        "colab_type": "code",
        "colab": {}
      },
      "cell_type": "code",
      "source": [
        "test=[[3,5]]\n",
        "prediccion = kmeans_model.predict(test)\n",
        "print(\"Prediccion {0}->{1}\".format(test,prediccion))"
      ],
      "execution_count": 0,
      "outputs": []
    },
    {
      "metadata": {
        "id": "a8BzNcEY6FTo",
        "colab_type": "code",
        "colab": {}
      },
      "cell_type": "code",
      "source": [
        "x1 = np.array([2, 5, 8])\n",
        "x2 = np.array([5, 5, 4])\n",
        "\n",
        "X = np.array(list(zip(x1, x2))).reshape(len(x1), 2)\n",
        "prediccion = kmeans_model.fit_predict(X)\n",
        "print(prediccion)"
      ],
      "execution_count": 0,
      "outputs": []
    },
    {
      "metadata": {
        "id": "oj__IQSv6FTt",
        "colab_type": "code",
        "colab": {}
      },
      "cell_type": "code",
      "source": [
        "print(kmeans_model.cluster_centers_)"
      ],
      "execution_count": 0,
      "outputs": []
    }
  ]
}